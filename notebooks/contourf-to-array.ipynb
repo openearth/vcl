{
 "cells": [
  {
   "cell_type": "code",
   "execution_count": 1,
   "id": "5eda8286",
   "metadata": {},
   "outputs": [],
   "source": [
    "import shapely\n",
    "import geopandas as gpd\n",
    "import numpy as np\n",
    "import pandas as pd\n",
    "import pathlib\n",
    "import rasterio\n",
    "import cv2\n",
    "import xarray as xr\n",
    "import scipy\n",
    "\n",
    "import matplotlib.image as mpimg\n",
    "import matplotlib.pyplot as plt\n",
    "import matplotlib.transforms as mtransforms\n",
    "import matplotlib.patches as patches\n",
    "\n",
    "from matplotlib.colors import LightSource"
   ]
  },
  {
   "cell_type": "code",
   "execution_count": 2,
   "id": "8fe6e95a",
   "metadata": {},
   "outputs": [],
   "source": [
    "data_dir = pathlib.Path(\"~/data/vcl/dataset\").expanduser()"
   ]
  },
  {
   "cell_type": "code",
   "execution_count": 3,
   "id": "9c1a350c",
   "metadata": {},
   "outputs": [],
   "source": [
    "extent = gpd.read_file(data_dir / \"bounding_box.shp\").to_crs(epsg=28992).iloc[0].geometry\n",
    "\n",
    "ds = xr.open_dataset(data_dir / \"concentratie_data_gw_model.nc\")\n",
    "ds_b0 = rasterio.open(data_dir / \"originele_bodem.tif\")"
   ]
  },
  {
   "cell_type": "code",
   "execution_count": 4,
   "id": "8da3ca68",
   "metadata": {},
   "outputs": [],
   "source": [
    "# Get vertices of geometry (rectangle)\n",
    "coords = list(extent.exterior.coords)\n",
    "coords = pd.DataFrame(coords)\n",
    "coords.columns = [\"x\", \"y\"]\n",
    "\n",
    "# Get minimum and maximum x and y values from vertices\n",
    "xmin = coords.idxmin(0)[\"x\"]\n",
    "ymin = coords.idxmin(0)[\"y\"]\n",
    "xmax = coords.idxmax(0)[\"x\"]\n",
    "ymax = coords.idxmax(0)[\"y\"]\n",
    "\n",
    "# Find bottom left point and bottom right point of original extent\n",
    "bottom_point = [coords.iloc[ymin][\"x\"], coords.iloc[ymin][\"y\"]]\n",
    "right_point = [coords.iloc[xmax][\"x\"], coords.iloc[xmax][\"y\"]]\n",
    "\n",
    "# Compute the rotation angle of original extent\n",
    "o = right_point[1] - bottom_point[1]\n",
    "a = right_point[0] - bottom_point[0]\n",
    "\n",
    "angle = np.rad2deg(np.arctan(o / a))\n",
    "\n",
    "# Get center point of extent\n",
    "mid_point = extent.centroid.coords[0]"
   ]
  },
  {
   "cell_type": "code",
   "execution_count": 5,
   "id": "fd432b52",
   "metadata": {},
   "outputs": [],
   "source": [
    "# Get plot lims of rotated extent (rotated such that extent has an angle of 0 with the horizontal axis)\n",
    "rotated_extent = shapely.affinity.rotate(extent, -angle)\n",
    "\n",
    "plt_lims = rotated_extent.exterior.bounds"
   ]
  },
  {
   "cell_type": "code",
   "execution_count": 6,
   "id": "38e71d51",
   "metadata": {},
   "outputs": [],
   "source": [
    "conc_bounds = (\n",
    "    ds.conc.x.values[0],\n",
    "    ds.conc.y.values[-1],\n",
    "    ds.conc.x.values[-1],\n",
    "    ds.conc.y.values[0],\n",
    ")\n",
    "\n",
    "dummy = scipy.ndimage.rotate(ds.conc.values[0, ...], -angle, reshape=True, order=0, cval=np.nan)\n",
    "rot_ds = np.zeros((ds.conc.shape[0], dummy.shape[0], dummy.shape[1]))\n",
    "\n",
    "for i in range(rot_ds.shape[0]):\n",
    "    rot_ds[i, ...] = scipy.ndimage.rotate(\n",
    "        ds.conc.values[i, ...], -angle, reshape=True, order=0, cval=np.nan\n",
    "    )"
   ]
  },
  {
   "cell_type": "code",
   "execution_count": 7,
   "id": "9c85f15a",
   "metadata": {},
   "outputs": [],
   "source": [
    "def get_rotated_vertex(center, point, angle):\n",
    "    \"\"\"\n",
    "    Computes new coordinates of a rectangle vertex after rotation\n",
    "\n",
    "    Input:\n",
    "        - center, the center point of the rectangle\n",
    "        - point, the original vertex point\n",
    "        - angle, the rotation angle of the rectangle\n",
    "\n",
    "    Output:\n",
    "        - rotated_point, the new coordinates of point after rotation\n",
    "    \"\"\"\n",
    "    # Translate point such that 'rectangle' has center at (0, 0)\n",
    "    new_point = np.array(point) - np.array(center)\n",
    "    # Create rotation matrix\n",
    "    rot_matrix = np.array(\n",
    "        [[np.cos(angle), -np.sin(angle)], [np.sin(angle), np.cos(angle)]]\n",
    "    )\n",
    "    # Compute rotated point\n",
    "    rotated_point = np.matmul(rot_matrix, new_point)\n",
    "    # translate point back\n",
    "    rotated_point = rotated_point + np.array(center)\n",
    "    return rotated_point\n",
    "\n",
    "def fit_array_to_bounds(array, array_bounds, center, extent, angle):\n",
    "    \"\"\"\n",
    "    Crops the array to the extent. This assumes that array is rotated by angle degrees\n",
    "    and extent is the extent after rotation. array bounds are the original bounds before rotation\n",
    "\n",
    "    Input:\n",
    "        - array, a 'rotated' array which we want to crop\n",
    "        - array_bounds, the bounds or extent of the original array before rotation\n",
    "        - center, the center point of the extent to which we want to crop\n",
    "        - extent, the extent to which we want to crop\n",
    "        - angle, the rotation angle of the array\n",
    "\n",
    "    Output:\n",
    "        - array, the cropped array\n",
    "        - dx, the distance one cell in x direction represents\n",
    "        - dy, the distance one cell in y direction represents\n",
    "    \"\"\"\n",
    "    left, bottom, right, top = array_bounds\n",
    "\n",
    "    # Compute new vertex positions after rotation\n",
    "    xmin1 = get_rotated_vertex(center, (left, bottom), np.deg2rad(angle))[0]\n",
    "    ymin1 = get_rotated_vertex(center, (right, bottom), np.deg2rad(angle))[1]\n",
    "    xmax1 = get_rotated_vertex(center, (right, top), np.deg2rad(angle))[0]\n",
    "    ymax1 = get_rotated_vertex(center, (left, top), np.deg2rad(angle))[1]\n",
    "\n",
    "    # Get extent of area of interest\n",
    "    xmin2, ymin2, xmax2, ymax2 = extent\n",
    "\n",
    "    # Assumes that array dimensions are (y, x) or (z, y, x)\n",
    "    if len(array.shape) == 2:\n",
    "        # Compute dx and dy\n",
    "        dx = np.round((xmax1 - xmin1) / array.shape[1])\n",
    "        dy = np.round((ymax1 - ymin1) / array.shape[0])\n",
    "\n",
    "        # Compute bounds (in indices) corresponding to extent\n",
    "        # Note that ymax1 and ymax2 are the actual coordinate values, therefore the ymin index is computed using ymax coordinates\n",
    "        xmin = int((xmin2 - xmin1) / dx)\n",
    "        xmax = int(array.shape[1] - (xmax1 - xmax2) / dx)\n",
    "        ymin = int((ymax1 - ymax2) / dy)\n",
    "        ymax = int(array.shape[0] - (ymin2 - ymin1) / dy)\n",
    "\n",
    "        array = array[ymin:ymax, xmin:xmax]\n",
    "    elif len(array.shape) == 3:\n",
    "        # Compute dx and dy\n",
    "        dx = np.round((xmax1 - xmin1) / array.shape[2])\n",
    "        dy = np.round((ymax1 - ymin1) / array.shape[1])\n",
    "\n",
    "        # Compute bounds (in indices) corresponding to extent\n",
    "        # Note that ymax1 and ymax2 are the actual coordinate values, therefore the ymin index is computed using ymax coordinates\n",
    "        xmin = int((xmin2 - xmin1) / dx)\n",
    "        xmax = int(array.shape[2] - (xmax1 - xmax2) / dx)\n",
    "        ymin = int((ymax1 - ymax2) / dy)\n",
    "        ymax = int(array.shape[1] - (ymin2 - ymin1) / dy)\n",
    "\n",
    "        array = array[:, ymin:ymax, xmin:xmax]\n",
    "    return (array, dx, dy)"
   ]
  },
  {
   "cell_type": "code",
   "execution_count": 8,
   "id": "9d6f1319",
   "metadata": {},
   "outputs": [],
   "source": [
    "(\n",
    "    conc,\n",
    "    dx_conc,\n",
    "    dy_conc,\n",
    ") = fit_array_to_bounds(\n",
    "    rot_ds,\n",
    "    conc_bounds,\n",
    "    mid_point,\n",
    "    plt_lims,\n",
    "    -angle,\n",
    ")"
   ]
  },
  {
   "cell_type": "code",
   "execution_count": 9,
   "id": "d0e53b6f",
   "metadata": {},
   "outputs": [],
   "source": [
    "Y, Z = np.meshgrid(\n",
    "    np.linspace(\n",
    "        plt_lims[3],\n",
    "        plt_lims[1],\n",
    "        conc.shape[1],\n",
    "    ),\n",
    "    ds.z\n",
    ")"
   ]
  },
  {
   "cell_type": "code",
   "execution_count": 10,
   "id": "3c27931b",
   "metadata": {},
   "outputs": [
    {
     "data": {
      "text/plain": [
       "<matplotlib.contour.QuadContourSet at 0x2133102f970>"
      ]
     },
     "execution_count": 10,
     "metadata": {},
     "output_type": "execute_result"
    },
    {
     "data": {
      "image/png": "[encoded data removed]",
      "text/plain": [
       "<Figure size 640x480 with 1 Axes>"
      ]
     },
     "metadata": {},
     "output_type": "display_data"
    }
   ],
   "source": [
    "fig, ax = plt.subplots()\n",
    "ax.contourf(Y, Z, conc[..., 100], levels=[-1, 1.5, 16])"
   ]
  },
  {
   "cell_type": "code",
   "execution_count": 11,
   "id": "652e5a17",
   "metadata": {},
   "outputs": [],
   "source": [
    "def contourf_to_array(cs, nbpixels_x, nbpixels_y, scale_x, scale_y):\n",
    "    \"\"\"\n",
    "    Draws filled contours from contourf or tricontourf cs on output array of size (nbpixels_x, nbpixels_y)\n",
    "\n",
    "    Input:\n",
    "        - cs, a contourf or tricontourf object from matplotlib\n",
    "        - nbpixles_x, the number of rows for the output arrays\n",
    "        - nbpixels_y, the number of columns for the output arrays\n",
    "        - scale_x, the x component of the meshgrid for the contours\n",
    "        - scale_y, the y component of the meshgrid for the contours\n",
    "\n",
    "    Output:\n",
    "        - images, a dictionary of arrays for each contour level\n",
    "        - shapes, a dictionary of polygons from the contour for each contour level\n",
    "    \"\"\"\n",
    "    image = np.zeros((nbpixels_x, nbpixels_y)) - 10\n",
    "    images = {}\n",
    "    shapes = {}\n",
    "\n",
    "    for i, collection in enumerate(cs.collections):\n",
    "        z = cs.levels[i]  # get contour levels from cs\n",
    "        images[i] = np.full((nbpixels_x, nbpixels_y), np.nan)\n",
    "        for path in collection.get_paths():\n",
    "            verts = (\n",
    "                path.to_polygons()\n",
    "            )  # get vertices of current contour level (is a list of arrays)\n",
    "            for j, v in enumerate(verts):\n",
    "                # rescale vertices to image size\n",
    "                v[:, 0] = (\n",
    "                    (v[:, 0] - np.min(scale_x))\n",
    "                    / (np.max(scale_x) - np.min(scale_x))\n",
    "                    * nbpixels_y\n",
    "                )\n",
    "                v[:, 1] = (\n",
    "                    (v[:, 1] - np.min(scale_y))\n",
    "                    / (np.max(scale_y) - np.min(scale_y))\n",
    "                    * nbpixels_x\n",
    "                )\n",
    "                poly = np.array(\n",
    "                    [v], dtype=np.int32\n",
    "                )  # dtype integer is necessary for the next instruction\n",
    "                cv2.fillPoly(images[i], poly, z)\n",
    "                if j == 0:\n",
    "                    shapes[i] = shapely.Polygon(poly[0, ...])\n",
    "                    shapes[i] = shapely.MultiPolygon([shapes[i]])\n",
    "                else:\n",
    "                    try:\n",
    "                        shapes[i] = shapes[i].union(shapely.Polygon(poly[0, ...]))\n",
    "                    except:\n",
    "                        continue\n",
    "    return images, shapes\n",
    "\n",
    "\n",
    "# This function was needed, since otherwise a smaller polygon fully inside a bigger polygon could get overwritten\n",
    "def combine_polygons(images, shapes):\n",
    "    \"\"\"\n",
    "    Function for combining images containing polygons from contour levels\n",
    "    into one image in the order of biggest polygons to smallest polygons\n",
    "\n",
    "    Input:\n",
    "        - images, a dictionary of arrays for each contour level\n",
    "        - shapes, a dictionary of polygons from the contour for each contour level\n",
    "\n",
    "    Output:\n",
    "        - image, an array combined from images\n",
    "    \"\"\"\n",
    "\n",
    "    # Sort polygons from big to small\n",
    "    polygons = sorted(shapes.items(), key=lambda item: item[1].area, reverse=True)\n",
    "    image = np.full(images[0].shape, np.nan)\n",
    "    # Add polygons from images to image\n",
    "    for i in polygons:\n",
    "        image[~np.isnan(images[i[0]])] = np.nanmax(images[i[0]])\n",
    "\n",
    "    return image"
   ]
  },
  {
   "cell_type": "code",
   "execution_count": 12,
   "id": "0e35ecb7",
   "metadata": {},
   "outputs": [
    {
     "name": "stderr",
     "output_type": "stream",
     "text": [
      "C:\\Users\\hemert\\AppData\\Local\\Temp\\ipykernel_12000\\601071678.py:20: MatplotlibDeprecationWarning: The collections attribute was deprecated in Matplotlib 3.8 and will be removed two minor releases later.\n",
      "  for i, collection in enumerate(cs.collections):\n"
     ]
    },
    {
     "data": {
      "image/png": "[encoded data removed]",
      "text/plain": [
       "<Figure size 640x480 with 1 Axes>"
      ]
     },
     "metadata": {},
     "output_type": "display_data"
    }
   ],
   "source": [
    "cs = plt.contourf(Y, Z, conc[..., 100], levels=[-1, 1.5, 16])\n",
    "\n",
    "contourfs, shapes = contourf_to_array(\n",
    "    cs, 320, conc.shape[1], Y, Z\n",
    ")"
   ]
  },
  {
   "cell_type": "code",
   "execution_count": 13,
   "id": "d65056d4",
   "metadata": {},
   "outputs": [
    {
     "data": {
      "text/plain": [
       "<matplotlib.image.AxesImage at 0x21336efd580>"
      ]
     },
     "execution_count": 13,
     "metadata": {},
     "output_type": "execute_result"
    },
    {
     "data": {
      "image/png": "[encoded data removed]",
      "text/plain": [
       "<Figure size 640x480 with 1 Axes>"
      ]
     },
     "metadata": {},
     "output_type": "display_data"
    }
   ],
   "source": [
    "contourf_array = np.flip(combine_polygons(contourfs, shapes), axis=0)\n",
    "plt.imshow(contourf_array)"
   ]
  },
  {
   "cell_type": "code",
   "execution_count": null,
   "id": "9cec6177",
   "metadata": {},
   "outputs": [],
   "source": []
  }
 ],
 "metadata": {
  "kernelspec": {
   "display_name": "Python 3 (ipykernel)",
   "language": "python",
   "name": "python3"
  },
  "language_info": {
   "codemirror_mode": {
    "name": "ipython",
    "version": 3
   },
   "file_extension": ".py",
   "mimetype": "text/x-python",
   "name": "python",
   "nbconvert_exporter": "python",
   "pygments_lexer": "ipython3",
   "version": "3.9.18"
  }
 },
 "nbformat": 4,
 "nbformat_minor": 5
}
