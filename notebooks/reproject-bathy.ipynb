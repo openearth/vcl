{
 "cells": [
  {
   "cell_type": "code",
   "execution_count": 31,
   "id": "784e4b0f-1c39-4f89-bc77-32fe48202b4a",
   "metadata": {},
   "outputs": [],
   "source": [
    "import pathlib\n",
    "\n",
    "import rasterio as rio\n",
    "\n",
    "from rasterio import Affine\n",
    "import rasterio.warp\n",
    "import geopandas as gpd\n",
    "import numpy as np"
   ]
  },
  {
   "cell_type": "code",
   "execution_count": 25,
   "id": "2d0851d2-686f-484b-8761-0c63bbe492f9",
   "metadata": {},
   "outputs": [],
   "source": [
    "data_dir = pathlib.Path('~/data/vcl/bodem-202311/vanNienke').expanduser()\n",
    "\n",
    "# bathymetry\n",
    "in_file = 'huidige_bodem_voor_maquette.tif'\n",
    "\n",
    "\n",
    "# in_file = 'https://service.pdok.nl/hwh/luchtfotorgb/wmts/v1_0'\n",
    "out_file = 'test-tile.tif'"
   ]
  },
  {
   "cell_type": "code",
   "execution_count": 26,
   "id": "320be3fb-d4f4-4dee-ab14-42ee741b3a73",
   "metadata": {},
   "outputs": [],
   "source": [
    "dst_width = 1920\n",
    "dst_height = 1200"
   ]
  },
  {
   "cell_type": "code",
   "execution_count": 27,
   "id": "05308758-d36c-4ec9-bc5b-532b695c59ac",
   "metadata": {},
   "outputs": [],
   "source": [
    "extent_df = gpd.read_file(data_dir / 'bounding_box.shp')\n",
    "extent_geom = extent_df.iloc[0]['geometry']\n",
    "dst_left, dst_lower, dst_right, dst_upper = extent_geom.bounds"
   ]
  },
  {
   "cell_type": "code",
   "execution_count": 28,
   "id": "51176867-2091-4254-b66a-2a9ab16539ab",
   "metadata": {},
   "outputs": [
    {
     "data": {
      "text/plain": [
       "(4037, 80740.0, 33036.620488757675)"
      ]
     },
     "execution_count": 28,
     "metadata": {},
     "output_type": "execute_result"
    }
   ],
   "source": [
    "with rio.open(data_dir / in_file) as src:\n",
    "    # Get the old transform and crs\n",
    "    src_transform = src.transform \n",
    "    src_bounds = src.bounds\n",
    "    src_width = src.width\n",
    "    src_height = src.height\n",
    "    \n",
    "src_bounds\n",
    "src_width_m = src_bounds.right - src_bounds.left\n",
    "src_width_m\n",
    "dst_width_m = dst_right - dst_left\n",
    "\n",
    "src_width, src_width_m, dst_width_m"
   ]
  },
  {
   "cell_type": "code",
   "execution_count": 34,
   "id": "f73ad8e5-ac2d-488c-b8b7-d51a5946d1dc",
   "metadata": {},
   "outputs": [],
   "source": [
    "\n",
    "angle = -15\n",
    "#adj_width = 0\n",
    "# adj_height = 0\n",
    "\n",
    "shift_x = dst_width / 2\n",
    "shift_y =  - dst_width / 2\n",
    "scale_x = 0.8\n",
    "scale_y = 0.8\n",
    "\n",
    "# these parameters should be computable using an example like:\n",
    "# https://rasterio.readthedocs.io/en/latest/topics/virtual-warping.html\n",
    "\n",
    "# see also:\n",
    "# https://rasterio.readthedocs.io/en/stable/topics/reproject.html\n",
    "\n",
    "with rio.open(data_dir / in_file) as src:\n",
    "    # Get the old transform and crs\n",
    "    src_transform = src.transform \n",
    "    crs = src.crs\n",
    "    \n",
    "    # Affine transformations for rotation and translation\n",
    "    rotate = Affine.rotation(angle)\n",
    "    trans_x = Affine.translation(shift_x,0)\n",
    "    trans_y = Affine.translation(0, -shift_y)\n",
    "    scale = Affine.scale(scale_x, scale_y)\n",
    "    \n",
    "    \n",
    "    # Combine affine transformations\n",
    "    dst_transform = src_transform * scale * rotate * trans_x * trans_y \n",
    "    \n",
    "    # Get band data\n",
    "    band = np.array(src.read(1))\n",
    "    \n",
    "    # Get the new shape\n",
    "    y, x = band.shape\n",
    "    # dst_height = y + adj_height\n",
    "    # dst_width = x + adj_width\n",
    "    \n",
    "    # set properties for output\n",
    "    dst_kwargs = src.meta.copy()\n",
    "    dst_kwargs.update(\n",
    "        {\n",
    "            \"transform\": dst_transform,\n",
    "            \"height\": dst_height,\n",
    "            \"width\": dst_width,\n",
    "            \"nodata\": 0,  \n",
    "        }\n",
    "    )\n",
    "    \n",
    "    # write to disk\n",
    "    with rio.open(out_file, \"w\", **dst_kwargs) as dst:\n",
    "        # reproject to new CRS\n",
    "    \n",
    "        rasterio.warp.reproject(\n",
    "            source=band,\n",
    "            destination=rio.band(dst, 1),\n",
    "            src_transform=src_transform,\n",
    "            src_crs=crs,\n",
    "            dst_transform=dst_transform,\n",
    "            dst_crs=crs,\n",
    "            resampling=rasterio.warp.Resampling.bilinear\n",
    "        )"
   ]
  },
  {
   "cell_type": "code",
   "execution_count": null,
   "id": "0131a452-fc74-4574-b571-84b0bea949d9",
   "metadata": {},
   "outputs": [],
   "source": []
  },
  {
   "cell_type": "code",
   "execution_count": null,
   "id": "2a0a6531-4944-45c0-9ec1-3dbdf4153ece",
   "metadata": {},
   "outputs": [],
   "source": []
  }
 ],
 "metadata": {
  "kernelspec": {
   "display_name": "Python 3 (ipykernel)",
   "language": "python",
   "name": "python3"
  },
  "language_info": {
   "codemirror_mode": {
    "name": "ipython",
    "version": 3
   },
   "file_extension": ".py",
   "mimetype": "text/x-python",
   "name": "python",
   "nbconvert_exporter": "python",
   "pygments_lexer": "ipython3",
   "version": "3.9.18"
  }
 },
 "nbformat": 4,
 "nbformat_minor": 5
}
